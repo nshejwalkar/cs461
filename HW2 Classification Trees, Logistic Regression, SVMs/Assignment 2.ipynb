{
 "cells": [
  {
   "cell_type": "markdown",
   "metadata": {},
   "source": [
    "# Part 1: Decision Trees for Classification"
   ]
  },
  {
   "cell_type": "markdown",
   "metadata": {},
   "source": [
    "Before we begin the question, let's implement the classification tree class and related functions to deal with the data."
   ]
  },
  {
   "cell_type": "code",
   "execution_count": 18,
   "metadata": {},
   "outputs": [],
   "source": [
    "import numpy as np\n",
    "import pandas as pd\n",
    "import matplotlib.pyplot as plt"
   ]
  },
  {
   "cell_type": "code",
   "execution_count": 19,
   "metadata": {},
   "outputs": [],
   "source": [
    "def generaterow(sigma):\n",
    "    row = []\n",
    "    for _ in range(15): # adds x's\n",
    "        row.append(-1 if int(round(np.random.rand()))==0 else 1)\n",
    "    \n",
    "    function = 0.9*row[0] + (0.9**2)*row[1] + (0.9**3)*row[2] + (0.9**4)*row[3] + (0.9**5)*row[4] + np.random.normal(loc=0, scale=sigma)\n",
    "    \n",
    "    row.append(int(np.sign(function))) # adds y\n",
    "\n",
    "    return row"
   ]
  },
  {
   "cell_type": "code",
   "execution_count": 20,
   "metadata": {},
   "outputs": [
    {
     "data": {
      "text/plain": [
       "[-1, -1, 1, 1, -1, 1, 1, 1, 1, 1, 1, 1, 1, -1, 1, -1]"
      ]
     },
     "execution_count": 20,
     "metadata": {},
     "output_type": "execute_result"
    }
   ],
   "source": [
    "generaterow(1)"
   ]
  },
  {
   "cell_type": "code",
   "execution_count": 21,
   "metadata": {},
   "outputs": [],
   "source": [
    "def initDataframe():\n",
    "    columns = [f'x{i}' for i in range(1,16)]\n",
    "    columns.append('y')\n",
    "\n",
    "    df = pd.DataFrame(columns=columns)\n",
    "    return df"
   ]
  },
  {
   "cell_type": "code",
   "execution_count": 22,
   "metadata": {},
   "outputs": [],
   "source": [
    "def populateDataframe(df, rows, alpha):\n",
    "    for i in range(rows):\n",
    "        df.loc[len(df.index)] = generaterow(alpha)\n",
    "    \n",
    "    return df"
   ]
  },
  {
   "cell_type": "code",
   "execution_count": 23,
   "metadata": {},
   "outputs": [],
   "source": [
    "class ClassificationTree:\n",
    "    def __init__(self, numpdf, left=None, right=None): \n",
    "        self.df = numpdf # self.df is a numpy array NOT pandas dataframe\n",
    "        self.left = left\n",
    "        self.right = right\n",
    "        self.bestfeature = -1\n",
    "\n",
    "    def split(self):\n",
    "        if self.df[(self.df[:,-1]==-1),:].shape[0] == 0 or self.df[(self.df[:,-1]==1),:].shape[0] == 0:\n",
    "            return (None, None) # pure node, y is either all -1 or +1\n",
    "\n",
    "        best = self.findbestfeature()\n",
    "        leftdata = self.df[self.df[:,best] == -1]\n",
    "        rightdata = self.df[self.df[:,best] == 1]\n",
    "        return (leftdata, rightdata)\n",
    "\n",
    "    def findbestfeature(self):\n",
    "        bestfeatureIG = -1\n",
    "        for featurenumber in range(self.df.shape[1]-1): # number of columns (0-14)\n",
    "            if self.informationgain(featurenumber) > bestfeatureIG:\n",
    "                bestfeatureIG = self.informationgain(featurenumber)\n",
    "                self.bestfeature = featurenumber\n",
    "        \n",
    "        return self.bestfeature\n",
    "\n",
    "\n",
    "    def informationgain(self, featurenumber):\n",
    "        return self.entropyY() - self.entropyYgivenX(featurenumber)\n",
    "        \n",
    "\n",
    "    def entropyY(self):\n",
    "        ent = 0\n",
    "        for i in [-1,1]:\n",
    "            probi = self.df[(self.df[:,-1]==i),:].shape[0] / self.df.shape[0] \n",
    "            ent += probi * np.log2(probi)\n",
    "\n",
    "        return ent*-1\n",
    "\n",
    "\n",
    "    def entropyYgivenX(self, featurenumber):\n",
    "        ent = 0\n",
    "        # featurenumber = int(feature[-1]) - 1 # just turning the feature string into an index. (ex: 'x1' -> 0)\n",
    "        for i in [-1,1]: # iterate over x\n",
    "            numberofxiequalsx = self.df[(self.df[:,featurenumber]==i),:].shape[0]\n",
    "\n",
    "            if numberofxiequalsx == 0: # check if feature is all either -1 or +1\n",
    "                return self.entropyY() # this will make the IG zero\n",
    "\n",
    "            pxeqx = numberofxiequalsx / self.df.shape[0]\n",
    "            pysum = 0\n",
    "\n",
    "            for j in [-1,1]: # iterate over y\n",
    "                pyeqyxeqx = self.df[(self.df[:,-1]==j) & (self.df[:,featurenumber] == i)].shape[0] / numberofxiequalsx\n",
    "                \n",
    "                with np.errstate(divide='raise'): # allows us to handle case where p(y=y|x=x) is 0\n",
    "                    try:\n",
    "                        pysum += pyeqyxeqx*np.log2(pyeqyxeqx)*-1\n",
    "                    except FloatingPointError:\n",
    "                        pysum += 0\n",
    "            \n",
    "            ent += pxeqx * pysum\n",
    "        \n",
    "        return ent\n"
   ]
  },
  {
   "cell_type": "code",
   "execution_count": 24,
   "metadata": {},
   "outputs": [],
   "source": [
    "def buildtree(treehead, minsamplesize): # recursively builds tree from head\n",
    "    if treehead.df.shape[0] <= minsamplesize: # checks if node is below minimum sample size\n",
    "        return\n",
    "    \n",
    "    leftdata, rightdata = treehead.split()\n",
    "    if leftdata is None or rightdata is None: return # checks for pure node\n",
    "\n",
    "    if leftdata.shape[0] < minsamplesize or rightdata.shape[0] < minsamplesize: return # don't split\n",
    "\n",
    "    treehead.left = ClassificationTree(leftdata)\n",
    "    buildtree(treehead.left, minsamplesize)\n",
    "\n",
    "    treehead.right = ClassificationTree(rightdata)\n",
    "    buildtree(treehead.right, minsamplesize)\n"
   ]
  },
  {
   "cell_type": "code",
   "execution_count": 25,
   "metadata": {},
   "outputs": [],
   "source": [
    "def inordertraversal(treehead): # to view the tree\n",
    "    if treehead is None:\n",
    "        return \n",
    "\n",
    "    print('(', end='')\n",
    "    inordertraversal(treehead.left)\n",
    "    print(treehead.df.shape[0], end='')\n",
    "    inordertraversal(treehead.right)\n",
    "    print(')', end='')\n"
   ]
  },
  {
   "cell_type": "code",
   "execution_count": 26,
   "metadata": {},
   "outputs": [],
   "source": [
    "def trackdatapoint(treehead, datapoint): \n",
    "    if treehead.left is None or treehead.right is None: # leaf\n",
    "        negative = treehead.df[(treehead.df[:,-1]==-1),:].shape[0]\n",
    "        positive = treehead.df[(treehead.df[:,-1]==1),:].shape[0]\n",
    "        # print(negative)\n",
    "        # print(positive)\n",
    "        # print(negative>positive)\n",
    "        if negative>positive: return -1 # majority\n",
    "        if positive>=negative: return 1\n",
    "    \n",
    "    if datapoint[treehead.bestfeature] == -1: \n",
    "        # print(\"going left\")\n",
    "        return trackdatapoint(treehead.left, datapoint)\n",
    "    if datapoint[treehead.bestfeature] == 1: \n",
    "        # print(\"going right\")\n",
    "        return trackdatapoint(treehead.right, datapoint)"
   ]
  },
  {
   "cell_type": "code",
   "execution_count": 27,
   "metadata": {},
   "outputs": [],
   "source": [
    "def error(treehead, dataframe):\n",
    "    error = 0\n",
    "    for i in range(dataframe.shape[0]): # rows\n",
    "        if dataframe[i][-1] != trackdatapoint(treehead, dataframe[i]):\n",
    "            error += 1\n",
    "        # print(\"\\t\")\n",
    "    \n",
    "    error /= dataframe.shape[0]\n",
    "    return error"
   ]
  },
  {
   "cell_type": "code",
   "execution_count": 28,
   "metadata": {},
   "outputs": [],
   "source": [
    "# Creating train/test data\n",
    "traindat = initDataframe()\n",
    "traindat = populateDataframe(traindat, 5000, 0.05)\n",
    "traindat = traindat.to_numpy()\n",
    "\n",
    "testdat = initDataframe()\n",
    "testdat = populateDataframe(testdat, 500, 0.05)\n",
    "testdat = testdat.to_numpy()"
   ]
  },
  {
   "cell_type": "code",
   "execution_count": 29,
   "metadata": {},
   "outputs": [],
   "source": [
    "treehead = ClassificationTree(traindat)\n",
    "buildtree(treehead, 300)"
   ]
  },
  {
   "cell_type": "code",
   "execution_count": 30,
   "metadata": {},
   "outputs": [
    {
     "name": "stdout",
     "output_type": "stream",
     "text": [
      "((((644)1233(589))2499(((326)638(312))1266((307)628(321))))5000((((319)638(319))1272((317)634(317)))2501((606)1229(623))))"
     ]
    }
   ],
   "source": [
    "inordertraversal(treehead)"
   ]
  },
  {
   "cell_type": "code",
   "execution_count": 31,
   "metadata": {},
   "outputs": [
    {
     "data": {
      "text/plain": [
       "array([[ 1, -1, -1, ..., -1, -1,  1],\n",
       "       [ 1, -1,  1, ...,  1,  1,  1],\n",
       "       [ 1,  1,  1, ..., -1, -1,  1],\n",
       "       ...,\n",
       "       [ 1,  1,  1, ...,  1,  1,  1],\n",
       "       [ 1, -1,  1, ..., -1,  1,  1],\n",
       "       [ 1,  1, -1, ...,  1,  1,  1]], dtype=int64)"
      ]
     },
     "execution_count": 31,
     "metadata": {},
     "output_type": "execute_result"
    }
   ],
   "source": [
    "treehead.df"
   ]
  },
  {
   "cell_type": "code",
   "execution_count": 32,
   "metadata": {},
   "outputs": [],
   "source": [
    "xvals = np.arange(1,2000,10)\n",
    "testerrorvals = np.zeros(xvals.shape[0])\n",
    "trainerrorvals = np.zeros(xvals.shape[0])\n",
    "optimalsamplesize = 0\n",
    "\n",
    "for i,v in enumerate(xvals):\n",
    "    treehead = ClassificationTree(traindat)\n",
    "    buildtree(treehead, v)\n",
    "    # inordertraversal(treehead)\n",
    "    testerrorvals[i] = error(treehead, testdat)\n",
    "    trainerrorvals[i] = error(treehead, traindat)\n",
    "\n",
    "    if testerrorvals[i]==0:\n",
    "        optimalsamplesize = v\n",
    "\n",
    "    # print(optimalsamplesize, testerrorvals[i])\n"
   ]
  },
  {
   "cell_type": "code",
   "execution_count": 33,
   "metadata": {},
   "outputs": [
    {
     "data": {
      "image/png": "[encoded data removed]",
      "text/plain": [
       "<Figure size 432x288 with 1 Axes>"
      ]
     },
     "metadata": {
      "needs_background": "light"
     },
     "output_type": "display_data"
    }
   ],
   "source": [
    "plt.figure()\n",
    "plt.plot(xvals, testerrorvals, label='Test Error')\n",
    "plt.plot(xvals, trainerrorvals, label='Train Error')\n",
    "plt.title(\"Minimum sample size vs error\")\n",
    "plt.xlabel(\"Minimum simple size\")\n",
    "plt.ylabel(\"Error (Misclassified over total)\")\n",
    "plt.legend(loc=\"upper left\")\n",
    "plt.show()"
   ]
  },
  {
   "cell_type": "markdown",
   "metadata": {},
   "source": [
    "According to my data, it seems like the optimal sample size is around 115-125, as after that, the error sharply shoots up."
   ]
  },
  {
   "cell_type": "markdown",
   "metadata": {},
   "source": [
    "2) After several runs of the code, it seems consistent that this is a good range for the optimal sample size."
   ]
  },
  {
   "cell_type": "markdown",
   "metadata": {},
   "source": [
    "I ran the code 5 times and manually collected the optimal sample size recorded during each iteration:\n",
    "[131, 131, 131, 131, 131], which looks pretty consistent.\n",
    "The average is 131, so we'll call that s."
   ]
  },
  {
   "cell_type": "code",
   "execution_count": 680,
   "metadata": {},
   "outputs": [
    {
     "data": {
      "text/plain": [
       "131"
      ]
     },
     "execution_count": 680,
     "metadata": {},
     "output_type": "execute_result"
    }
   ],
   "source": [
    "optimalsamplesize"
   ]
  },
  {
   "cell_type": "markdown",
   "metadata": {},
   "source": [
    "### Sigma vs error "
   ]
  },
  {
   "cell_type": "code",
   "execution_count": 477,
   "metadata": {},
   "outputs": [],
   "source": [
    "optimalS = 131\n",
    "\n",
    "traindat2 = initDataframe()\n",
    "traindat2 = populateDataframe(traindat2, 5000, 0)\n",
    "traindat2 = traindat2.to_numpy()\n",
    "\n",
    "testdat2 = initDataframe()\n",
    "testdat2 = populateDataframe(testdat2, 500, 0)\n",
    "testdat2 = testdat2.to_numpy()"
   ]
  },
  {
   "cell_type": "code",
   "execution_count": 478,
   "metadata": {},
   "outputs": [],
   "source": [
    "def changeY(dataframe, newsigma):\n",
    "    for row in dataframe:\n",
    "        function = 0.9*row[0] + (0.9**2)*row[1] + (0.9**3)*row[2] + (0.9**4)*row[3] + (0.9**5)*row[4] + np.random.normal(loc=0, scale=newsigma)\n",
    "        row[-1] = int(np.sign(function))"
   ]
  },
  {
   "cell_type": "code",
   "execution_count": 479,
   "metadata": {},
   "outputs": [],
   "source": [
    "def checkunnecessaryfeatures(treehead):\n",
    "    ufeatures = [5,6,7,8,9,10,11,12,13,14]\n",
    "    if treehead is None:\n",
    "        return 0\n",
    "    else:\n",
    "        return checkunnecessaryfeatures(treehead.left)+checkunnecessaryfeatures(treehead.right)+1"
   ]
  },
  {
   "cell_type": "code",
   "execution_count": 480,
   "metadata": {},
   "outputs": [
    {
     "name": "stdout",
     "output_type": "stream",
     "text": [
      "0.0\n",
      "0.13793103448275862\n",
      "0.27586206896551724\n",
      "0.41379310344827586\n",
      "0.5517241379310345\n",
      "0.6896551724137931\n",
      "0.8275862068965517\n",
      "0.9655172413793103\n",
      "1.103448275862069\n",
      "1.2413793103448276\n",
      "1.3793103448275863\n",
      "1.5172413793103448\n",
      "1.6551724137931034\n",
      "1.793103448275862\n",
      "1.9310344827586206\n",
      "2.0689655172413794\n",
      "2.206896551724138\n",
      "2.3448275862068964\n",
      "2.4827586206896552\n",
      "2.6206896551724137\n",
      "2.7586206896551726\n",
      "2.896551724137931\n",
      "3.0344827586206895\n",
      "3.1724137931034484\n",
      "3.310344827586207\n",
      "3.4482758620689653\n",
      "3.586206896551724\n",
      "3.7241379310344827\n",
      "3.862068965517241\n",
      "4.0\n"
     ]
    }
   ],
   "source": [
    "sigmavals = np.linspace(0,4,30)\n",
    "testerror2vals = np.zeros(sigmavals.shape[0])\n",
    "trainerror2vals = np.zeros(sigmavals.shape[0])\n",
    "unnfeaturesvals = np.zeros(sigmavals.shape[0])\n",
    "\n",
    "for i,v in enumerate(sigmavals): # iterates over sigmas\n",
    "    treehead = ClassificationTree(traindat2)\n",
    "    buildtree(treehead, optimalS)\n",
    "    # inordertraversal(treehead)\n",
    "    testerror2vals[i] = error(treehead, testdat2)\n",
    "    trainerror2vals[i] = error(treehead, traindat2)\n",
    "    unnfeaturesvals[i] = checkunnecessaryfeatures(treehead)\n",
    "    changeY(testdat2, v)\n",
    "    changeY(traindat2, v)\n",
    "\n",
    "    print(v)"
   ]
  },
  {
   "cell_type": "code",
   "execution_count": 481,
   "metadata": {},
   "outputs": [
    {
     "data": {
      "image/png": "[encoded data removed]",
      "text/plain": [
       "<Figure size 432x288 with 1 Axes>"
      ]
     },
     "metadata": {
      "needs_background": "light"
     },
     "output_type": "display_data"
    }
   ],
   "source": [
    "plt.figure()\n",
    "plt.plot(sigmavals, testerror2vals, label='Test Error')\n",
    "plt.plot(sigmavals, trainerror2vals, label='Train Error')\n",
    "plt.title(\"Sigma vs error\")\n",
    "plt.xlabel(\"Sigma\")\n",
    "plt.ylabel(\"Error (Misclassified over total)\")\n",
    "plt.legend(loc=\"lower right\")\n",
    "plt.show()"
   ]
  },
  {
   "cell_type": "markdown",
   "metadata": {},
   "source": [
    "3) Noise clearly makes the model perform much worse, even at our previously calculated optimal sample size when the sigma was held constant. The optimal sample size would have to be much lower for higher values of sigma, as the model would need to be much more specific with how it's classifying the data."
   ]
  },
  {
   "cell_type": "code",
   "execution_count": 482,
   "metadata": {},
   "outputs": [
    {
     "data": {
      "image/png": "[encoded data removed]",
      "text/plain": [
       "<Figure size 432x288 with 1 Axes>"
      ]
     },
     "metadata": {
      "needs_background": "light"
     },
     "output_type": "display_data"
    }
   ],
   "source": [
    "plt.figure()\n",
    "plt.plot(sigmavals, unnfeaturesvals)\n",
    "plt.title(\"Sigma vs Unnecessary Features\")\n",
    "plt.xlabel(\"Sigma\")\n",
    "plt.ylabel(\"Number of Unnecessary Features\")\n",
    "plt.show()"
   ]
  },
  {
   "cell_type": "markdown",
   "metadata": {},
   "source": [
    "4) It seems like the amount of noise increases the number of unnecessary features in the model drastically. These features still show up in the model even with no noise, but this can be attributed to the fact that the data is very repetitive, being completely binary. It makes sense for repeats and whatnot to affect the model's quality. This result is also consistent with my answer for 3, as the greater number of unnecessary features involved in the model, the greater likelihood it is for the model to misclassify datapoints."
   ]
  },
  {
   "cell_type": "markdown",
   "metadata": {},
   "source": [
    "# Part 2: Logistic Regression"
   ]
  },
  {
   "cell_type": "code",
   "execution_count": 78,
   "metadata": {},
   "outputs": [],
   "source": [
    "def trackdatapointsoft(treehead, datapoint): \n",
    "    if treehead.left is None or treehead.right is None: # leaf\n",
    "        negative = treehead.df[(treehead.df[:,-1]==-1),:].shape[0]\n",
    "        positive = treehead.df[(treehead.df[:,-1]==1),:].shape[0]\n",
    "        return positive/(positive+negative) # soft classification\n",
    "    \n",
    "    if datapoint[treehead.bestfeature] == -1: \n",
    "        # print(\"going left\")\n",
    "        return trackdatapointsoft(treehead.left, datapoint)\n",
    "    if datapoint[treehead.bestfeature] == 1: \n",
    "        # print(\"going right\")\n",
    "        return trackdatapointsoft(treehead.right, datapoint)"
   ]
  },
  {
   "cell_type": "code",
   "execution_count": 83,
   "metadata": {},
   "outputs": [],
   "source": [
    "def logisticerror(treehead, dataframe):\n",
    "    error = 0\n",
    "    for i in range(dataframe.shape[0]): # rows\n",
    "        yi = dataframe[i][-1]\n",
    "        if yi == -1: # changing -1/+1 to 0/1\n",
    "            yi = 0\n",
    "        # to avoid log 0 errors\n",
    "        if trackdatapointsoft(treehead, dataframe[i]) == 0 and yi == 0: \n",
    "            error += 0\n",
    "        elif trackdatapointsoft(treehead, dataframe[i]) == 0 and yi == 1: \n",
    "            error += 1\n",
    "        elif trackdatapointsoft(treehead, dataframe[i]) == 1 and yi == 0: \n",
    "            error += 1\n",
    "        elif trackdatapointsoft(treehead, dataframe[i]) == 1 and yi == 1: \n",
    "            error += 0\n",
    "        else:\n",
    "            error += (-1)*yi*np.log(trackdatapointsoft(treehead, dataframe[i])) - (1-yi)*np.log(1-trackdatapointsoft(treehead, dataframe[i]))\n",
    "        \n",
    "    error /= dataframe.shape[0]\n",
    "    return error"
   ]
  },
  {
   "cell_type": "code",
   "execution_count": 75,
   "metadata": {},
   "outputs": [],
   "source": [
    "traindat3 = initDataframe()\n",
    "traindat3 = populateDataframe(traindat3, 5000, 0)\n",
    "traindat3 = traindat3.to_numpy()\n",
    "\n",
    "testdat3 = initDataframe()\n",
    "testdat3 = populateDataframe(testdat3, 500, 0)\n",
    "testdat3 = testdat3.to_numpy()"
   ]
  },
  {
   "cell_type": "code",
   "execution_count": 73,
   "metadata": {},
   "outputs": [
    {
     "name": "stdout",
     "output_type": "stream",
     "text": [
      "going right\n",
      "going left\n",
      "going right\n",
      "0.7594752186588921\n"
     ]
    },
    {
     "data": {
      "text/plain": [
       "(165, 16)"
      ]
     },
     "execution_count": 73,
     "metadata": {},
     "output_type": "execute_result"
    }
   ],
   "source": [
    "sam = ClassificationTree(traindat3)\n",
    "buildtree(sam, 601)\n",
    "print(trackdatapointsoft(sam, testdat3[3]))\n",
    "# samtree is None\n",
    "sam.right.left.right.df[sam.right.left.right.df[:,-1]==-1].shape"
   ]
  },
  {
   "cell_type": "code",
   "execution_count": 496,
   "metadata": {},
   "outputs": [
    {
     "name": "stdout",
     "output_type": "stream",
     "text": [
      "1 11 21 31 41 51 61 71 81 91 101 111 121 131 141 151 161 171 181 191 201 211 221 231 241 251 261 271 281 291 301 311 321 331 341 351 361 371 381 391 401 411 421 431 441 451 461 471 481 491 501 511 521 531 541 551 561 571 581 591 601 611 621 631 641 651 661 671 681 691 701 711 721 731 741 751 761 771 781 791 801 811 821 831 841 851 861 871 881 891 901 911 921 931 941 951 961 971 981 991 "
     ]
    }
   ],
   "source": [
    "samplevals = np.arange(1,1000,10)\n",
    "testerror3vals = np.zeros(samplevals.shape[0])\n",
    "trainerror3vals = np.zeros(samplevals.shape[0])\n",
    "\n",
    "for i,v in enumerate(samplevals):\n",
    "    treehead = ClassificationTree(traindat3)\n",
    "    buildtree(treehead, v)\n",
    "    # inordertraversal(treehead)\n",
    "    testerror3vals[i] = logisticerror(treehead, testdat3)\n",
    "    trainerror3vals[i] = logisticerror(treehead, traindat3)\n",
    "\n",
    "    if testerrorvals[i]==0:\n",
    "        optimalsamplesizel = v\n",
    "\n",
    "    # print(v, end=' ')"
   ]
  },
  {
   "cell_type": "code",
   "execution_count": 497,
   "metadata": {},
   "outputs": [
    {
     "data": {
      "text/plain": [
       "131"
      ]
     },
     "execution_count": 497,
     "metadata": {},
     "output_type": "execute_result"
    }
   ],
   "source": [
    "optimalsamplesizel"
   ]
  },
  {
   "cell_type": "code",
   "execution_count": 498,
   "metadata": {},
   "outputs": [
    {
     "data": {
      "image/png": "[encoded data removed]",
      "text/plain": [
       "<Figure size 432x288 with 1 Axes>"
      ]
     },
     "metadata": {
      "needs_background": "light"
     },
     "output_type": "display_data"
    }
   ],
   "source": [
    "plt.figure()\n",
    "plt.plot(samplevals, testerror3vals, label='Test Error')\n",
    "plt.plot(samplevals, trainerror3vals, label='Train Error')\n",
    "plt.title(\"Minimum sample size vs error\")\n",
    "plt.xlabel(\"Minimum simple size\")\n",
    "plt.ylabel(\"Error (Logistic Loss)\")\n",
    "plt.legend(loc=\"upper left\")\n",
    "plt.show()"
   ]
  },
  {
   "cell_type": "markdown",
   "metadata": {},
   "source": [
    "1) The optimal sample size turns out to be the exact same as the one in the hard classifying trees, 131. For the way I've defined the optimal sample size (the greatest size for which the error is 0 on the test data), this makes sense, as we would expect the trees' leaves to turn nonpure (soft classification) at the same sample size value where the trees' leaves begin to have at least one misclassified input (hard classification). Had I defined the optimal sample size more leniently, it would've been different for the two. This is clear especially after comparing the graphs for both: soft classification is more forgiving for higher minimum sample sizes."
   ]
  },
  {
   "cell_type": "markdown",
   "metadata": {},
   "source": [
    "Logistic Regression with SGD"
   ]
  },
  {
   "cell_type": "code",
   "execution_count": 197,
   "metadata": {},
   "outputs": [],
   "source": [
    "def sigmoid(w, x): #\n",
    "    dot = np.dot(w,x)\n",
    "    return 1 / (1 + np.exp(-1*dot))"
   ]
  },
  {
   "cell_type": "code",
   "execution_count": 222,
   "metadata": {},
   "outputs": [],
   "source": [
    "def logisticerrorregression(wvec, xmatr, yvec):\n",
    "    error = 0\n",
    "    for i in range(xmatr.shape[0]): # for every datapoint\n",
    "        prediction = sigmoid(wvec, xmatr[i])\n",
    "        prediction = np.clip(prediction, 10**-6, 1-10**-6) # forces the prediction to not be 0 or 1\n",
    "        error += (-1)*yvec[i]*np.log(prediction) - (1-yvec[i])*np.log(1-prediction)\n",
    "    return error/xmatr.shape[0] # returns average error"
   ]
  },
  {
   "cell_type": "code",
   "execution_count": 87,
   "metadata": {},
   "outputs": [],
   "source": [
    "traindat4 = initDataframe()\n",
    "traindat4 = populateDataframe(traindat4, 5000, 0)\n",
    "traindat4 = traindat4.to_numpy()\n",
    "\n",
    "testdat4 = initDataframe()\n",
    "testdat4 = populateDataframe(testdat4, 500, 0)\n",
    "testdat4 = testdat4.to_numpy()"
   ]
  },
  {
   "cell_type": "code",
   "execution_count": 239,
   "metadata": {},
   "outputs": [],
   "source": [
    "# formatting, setting up X and y for gradient descent\n",
    "wvector = [0]*16\n",
    "traindat4[traindat4==-1] = 0\n",
    "xmatrix = np.array_split(traindat4, indices_or_sections=[15], axis=1)[0]\n",
    "yvector = np.array_split(traindat4, indices_or_sections=[15], axis=1)[1]\n",
    "yvector = [i for [i] in yvector]\n",
    "x0 = [1]*xmatrix.shape[0]\n",
    "xmatrix = np.insert(xmatrix, 0, x0, axis=1)\n",
    "\n",
    "# same thing for test data\n",
    "testdat4[testdat4==-1] = 0\n",
    "testx = np.array_split(testdat4, indices_or_sections=[15], axis=1)[0]\n",
    "testy = np.array_split(testdat4, indices_or_sections=[15], axis=1)[1]\n",
    "testy = [i for [i] in testy]\n",
    "x0 = [1]*testx.shape[0]\n",
    "testx = np.insert(testx, 0, x0, axis=1)"
   ]
  },
  {
   "cell_type": "code",
   "execution_count": 686,
   "metadata": {},
   "outputs": [
    {
     "name": "stdout",
     "output_type": "stream",
     "text": [
      "0.6931471805599917\n"
     ]
    }
   ],
   "source": [
    "print(logisticerrorregression(wvector, xmatrix, yvector))"
   ]
  },
  {
   "cell_type": "code",
   "execution_count": 677,
   "metadata": {},
   "outputs": [],
   "source": [
    "import time\n",
    "\n",
    "def SGD(initw, xmatrix, yvector, testx, testy, alpha, errorbound):\n",
    "    timearray=[] \n",
    "    trainerrorarray=[]\n",
    "    testerrorarray=[]\n",
    "    start = time.time()\n",
    "    st = time.time()\n",
    "    end = time.time()\n",
    "    while (logisticerrorregression(initw, xmatrix, yvector) > errorbound):\n",
    "        if end-st > 1: # tracks loss around every second\n",
    "            timearray.append(end-start)\n",
    "            trainerrorarray.append(logisticerrorregression(initw, xmatrix, yvector))\n",
    "            testerrorarray.append(logisticerrorregression(initw, testx, testy))\n",
    "            st = time.time()\n",
    "\n",
    "        # chooses random datapoint to perform GD on \n",
    "        choice = np.random.randint(0, xmatrix.shape[0]-1)\n",
    "        initw -= alpha*(sigmoid(initw, xmatrix[choice])-yvector[choice])*xmatrix[choice]\n",
    "        # print(logisticerrorregression(initw, xmatrix, yvector), timearray)\n",
    "        end = time.time()\n",
    "        \n",
    "    return (initw, timearray, trainerrorarray, testerrorarray)"
   ]
  },
  {
   "cell_type": "code",
   "execution_count": 682,
   "metadata": {},
   "outputs": [
    {
     "name": "stdout",
     "output_type": "stream",
     "text": [
      "[-2.93059655  1.74707935  1.91566976  2.26126122  1.82362004  1.95481563\n",
      " -0.25090147 -0.1061856   0.00937904 -0.64389409 -0.18446272 -0.28090573\n",
      " -0.52041031 -0.49556387 -0.46920374 -0.44790491]\n"
     ]
    }
   ],
   "source": [
    "alpha = 0.1\n",
    "errorbound = 0.25\n",
    "wstar, timearray, trainerrorarray, testerrorarray = SGD(wvector, xmatrix, yvector, testx, testy, alpha, errorbound)\n",
    "print(wstar)"
   ]
  },
  {
   "cell_type": "code",
   "execution_count": 683,
   "metadata": {},
   "outputs": [
    {
     "data": {
      "image/png": "[encoded data removed]",
      "text/plain": [
       "<Figure size 432x288 with 1 Axes>"
      ]
     },
     "metadata": {
      "needs_background": "light"
     },
     "output_type": "display_data"
    }
   ],
   "source": [
    "plt.figure()\n",
    "plt.plot(timearray, trainerrorarray, label='Train Error')\n",
    "plt.plot(timearray, testerrorarray, label='Test Error')\n",
    "plt.title(\"Log Loss Error over Time\")\n",
    "plt.xlabel(\"Time (s)\")\n",
    "plt.ylabel(\"Error (Log Loss)\")\n",
    "plt.legend(loc=\"upper left\")\n",
    "plt.show()"
   ]
  },
  {
   "cell_type": "markdown",
   "metadata": {},
   "source": [
    "2) Overfitting is definitely not an issue as the test and train errors are very similar. This is somewhat expected. The test and train data are both very similar, as the method of generating these datasets involves only binary data for 15 features, with only a small variance for the error. As the training data had 5000 datapoints, it is within the magnitude of the number of all possible datapoints, meaning that the test and train data are likely to have more or less overlapping datapoints, or are at least very similar. As the model becomes more robust via SGD, it begins to generalize better as well, a fact that can be seen as the small difference between the train and test error at the start of the graph slowly reduces over time. Had I let the gradient descent algorithm run for much longer, then we might see the test error begin to go up slightly."
   ]
  },
  {
   "cell_type": "code",
   "execution_count": 246,
   "metadata": {},
   "outputs": [
    {
     "data": {
      "text/plain": [
       "array([-2.62278563,  2.04161925,  2.29904304,  1.78683659,  1.99095722,\n",
       "        2.34191794, -0.37966119, -0.43157242, -0.3576445 , -0.86140906,\n",
       "       -0.222992  , -0.51542976, -0.67049135, -0.44873966, -0.37940581,\n",
       "       -0.52964998])"
      ]
     },
     "execution_count": 246,
     "metadata": {},
     "output_type": "execute_result"
    }
   ],
   "source": [
    "wstar"
   ]
  },
  {
   "cell_type": "code",
   "execution_count": 687,
   "metadata": {},
   "outputs": [
    {
     "data": {
      "text/plain": [
       "0.24928143366810715"
      ]
     },
     "execution_count": 687,
     "metadata": {},
     "output_type": "execute_result"
    }
   ],
   "source": [
    "logisticerrorregression(wstar, xmatrix, yvector)"
   ]
  },
  {
   "cell_type": "markdown",
   "metadata": {},
   "source": [
    "3) For this set of test data, it took the logistic model far more time to train to the same level of logistic error as the classification trees. Additionally, the regression model with the lowest loss still had far higher error than the optimal classification tree (around 0.25 vs 0). Once again, this can be attributed to the fact that the data is very simple and has small variance. Tree models can overfit very quickly when the stopping conditions are too lenient, but for a dataset of this nature, it doesn't matter, as proven by the test and train errors being extremely similar despite the \"overfit\" trees. Meanwhile, the regression model also has a consistently small difference between train and test error, but it takes longer to reduce the error as it most likely has trouble finding a concrete seperator between such similar data. Of course, this analysis is bound to be different for other sets of data."
   ]
  },
  {
   "cell_type": "markdown",
   "metadata": {},
   "source": [
    "# Part 3: Support Vector Machines"
   ]
  },
  {
   "cell_type": "code",
   "execution_count": 663,
   "metadata": {},
   "outputs": [],
   "source": [
    "svmdata = pd.DataFrame(data={\n",
    "'x1': [-1, 1, -1, 1],\n",
    "'x2': [-1, -1, 1, 1],\n",
    "'y': [-1, 1, 1, -1]\n",
    "})"
   ]
  },
  {
   "cell_type": "code",
   "execution_count": 664,
   "metadata": {},
   "outputs": [
    {
     "data": {
      "text/html": [
       "<div>\n",
       "<style scoped>\n",
       "    .dataframe tbody tr th:only-of-type {\n",
       "        vertical-align: middle;\n",
       "    }\n",
       "\n",
       "    .dataframe tbody tr th {\n",
       "        vertical-align: top;\n",
       "    }\n",
       "\n",
       "    .dataframe thead th {\n",
       "        text-align: right;\n",
       "    }\n",
       "</style>\n",
       "<table border=\"1\" class=\"dataframe\">\n",
       "  <thead>\n",
       "    <tr style=\"text-align: right;\">\n",
       "      <th></th>\n",
       "      <th>x1</th>\n",
       "      <th>x2</th>\n",
       "      <th>y</th>\n",
       "    </tr>\n",
       "  </thead>\n",
       "  <tbody>\n",
       "    <tr>\n",
       "      <th>0</th>\n",
       "      <td>-1</td>\n",
       "      <td>-1</td>\n",
       "      <td>-1</td>\n",
       "    </tr>\n",
       "    <tr>\n",
       "      <th>1</th>\n",
       "      <td>1</td>\n",
       "      <td>-1</td>\n",
       "      <td>1</td>\n",
       "    </tr>\n",
       "    <tr>\n",
       "      <th>2</th>\n",
       "      <td>-1</td>\n",
       "      <td>1</td>\n",
       "      <td>1</td>\n",
       "    </tr>\n",
       "    <tr>\n",
       "      <th>3</th>\n",
       "      <td>1</td>\n",
       "      <td>1</td>\n",
       "      <td>-1</td>\n",
       "    </tr>\n",
       "  </tbody>\n",
       "</table>\n",
       "</div>"
      ],
      "text/plain": [
       "   x1  x2  y\n",
       "0  -1  -1 -1\n",
       "1   1  -1  1\n",
       "2  -1   1  1\n",
       "3   1   1 -1"
      ]
     },
     "execution_count": 664,
     "metadata": {},
     "output_type": "execute_result"
    }
   ],
   "source": [
    "svmdata"
   ]
  },
  {
   "cell_type": "code",
   "execution_count": 665,
   "metadata": {},
   "outputs": [
    {
     "data": {
      "image/png": "[encoded data removed]",
      "text/plain": [
       "<Figure size 432x288 with 1 Axes>"
      ]
     },
     "metadata": {
      "needs_background": "light"
     },
     "output_type": "display_data"
    }
   ],
   "source": [
    "plt.figure()\n",
    "groups = svmdata.groupby('y')\n",
    "for name, group in groups:\n",
    "    plt.plot(group.x1, group.x2, marker='o', linestyle='', markersize=12, label=name)\n",
    "plt.show()"
   ]
  },
  {
   "cell_type": "markdown",
   "metadata": {},
   "source": [
    "The data is clearly not linearly separable in this feature space. So, we can use a polynomial kernel to map it onto a higher dimensional feature space and separate the data that way."
   ]
  },
  {
   "cell_type": "code",
   "execution_count": 666,
   "metadata": {},
   "outputs": [],
   "source": [
    "xsvmdat = np.array_split(svmdata.to_numpy(), indices_or_sections=[2], axis=1)[0]\n",
    "ysvmdat = np.array_split(svmdata.to_numpy(), indices_or_sections=[2], axis=1)[1]"
   ]
  },
  {
   "cell_type": "code",
   "execution_count": 685,
   "metadata": {},
   "outputs": [],
   "source": [
    "# connects to Mathematica so I can use it within my SMO algorithm\n",
    "from wolframclient.evaluation import WolframLanguageSession\n",
    "from wolframclient.language import wl, wlexpr\n",
    "\n",
    "session = WolframLanguageSession()\n",
    "session.start()"
   ]
  },
  {
   "cell_type": "code",
   "execution_count": 636,
   "metadata": {},
   "outputs": [],
   "source": [
    "session.evaluate(wlexpr('''\n",
    "    findmax[a_, i1e_, i2e_, b1_, b2_] := \n",
    "        Module[{temp, x, y, addition, subtract, ep},\n",
    "        temp = a;\n",
    "        temp[[i1e + 1]] += ep;\n",
    "        temp[[i2e + 1]] += ep;\n",
    "        kernel[x_, y_] := (1 + x . y)^2;\n",
    "        x = {{-1, -1}, {1, -1}, {-1, 1}, {1, 1}};\n",
    "        y = {-1, 1, 1, -1};\n",
    "        addition = Sum[temp[[i]], {i, 1, 4}];\n",
    "        subtract = \n",
    "        Sum[Sum[temp[[i]]*y[[i]]*kernel[x[[i]], x[[j]]]*y[[j]]*\n",
    "            temp[[j]], {j, 1, 4}], {i, 1, 4}];\n",
    "        objfunc = addition - 0.5*subtract;\n",
    "        ep /. Last[FindMaximum[{objfunc, b1 <= ep <= b2}, {ep, 0}]]\n",
    "        ]\n",
    "'''))"
   ]
  },
  {
   "cell_type": "code",
   "execution_count": 637,
   "metadata": {},
   "outputs": [],
   "source": [
    "findepsilon = session.function('findmax')"
   ]
  },
  {
   "cell_type": "code",
   "execution_count": 667,
   "metadata": {},
   "outputs": [],
   "source": [
    "alphas = [0.125,0,0,0]\n",
    "maxtweakcycles = 25\n",
    "\n",
    "def SMO(alphas, xdata, ydata, maxtweakcycles): #stopping condition a certain max number of alpha tweaks\n",
    "    tweakcycles = 0\n",
    "    while (tweakcycles<maxtweakcycles):\n",
    "        for i in range(xdata.shape[0]):\n",
    "            for j in range(i+1,xdata.shape[0]):\n",
    "                if ydata[i] == ydata[j]: # both positive or both negative\n",
    "                    positive = alphas[i]\n",
    "                    negative = alphas[j]\n",
    "                    b1 = positive*-1 # lower bound \n",
    "                    b2 = negative # upper bound for what epsilon can be (otherwise alphas[j] could be < 0) \n",
    "                    # print(alphas, i, j, b1, b2, findepsilon(alphas,i,j,b1,b2),\"same\")\n",
    "                    alphas[i] += round(findepsilon(alphas, i, j, b1, b2),3)\n",
    "                    alphas[j] -= round(findepsilon(alphas, i, j, b1, b2),3)\n",
    "                    # print(alphas[i],alphas[j])\n",
    "                    \n",
    "                elif ydata[i] != ydata[j]: # one positive, one negative\n",
    "                    positive1 = alphas[i]\n",
    "                    positive2 = alphas[j]\n",
    "                    b1 = -1*positive1 if positive1<positive2 else -1*positive2 # lower bound is set to the smaller one\n",
    "                    b2 = 10 # arbitrary\n",
    "                    # print(alphas, i, j, b1, b2, findepsilon(alphas,i,j,b1,b2), \"diff\")\n",
    "                    alphas[i] += round(findepsilon(alphas, i, j, b1, b2),3)\n",
    "                    alphas[j] += round(findepsilon(alphas, i, j, b1, b2),3)\n",
    "                    # print(alphas[i],alphas[j])\n",
    "        tweakcycles+=1\n",
    "\n",
    "    return alphas"
   ]
  },
  {
   "cell_type": "code",
   "execution_count": 668,
   "metadata": {},
   "outputs": [],
   "source": [
    "alphastar = SMO(alphas,xsvmdat,ysvmdat,maxtweakcycles)"
   ]
  },
  {
   "cell_type": "code",
   "execution_count": 669,
   "metadata": {},
   "outputs": [
    {
     "data": {
      "text/plain": [
       "[0.126, 0.126, 0.126, 0.12400000000000001]"
      ]
     },
     "execution_count": 669,
     "metadata": {},
     "output_type": "execute_result"
    }
   ],
   "source": [
    "alphastar"
   ]
  },
  {
   "cell_type": "markdown",
   "metadata": {},
   "source": [
    "This vector of alphas satisfies both constraints of the Dual SVM problem. As all of the alpha values are nonzero, every datapoint should be a support vector. Now we can find the separator using the equations w dot x = sum over the vectors of alphai\\*yi\\*Kernel(xi*X), and b = yi-wdotx."
   ]
  },
  {
   "cell_type": "markdown",
   "metadata": {},
   "source": [
    "<img src=\"finalfunc.png\" width=500>"
   ]
  },
  {
   "cell_type": "markdown",
   "metadata": {},
   "source": [
    "So the final equation for the nonlinear separator is sign(-x1*x2). We can graph it on desmos to see if it makes sense."
   ]
  },
  {
   "cell_type": "markdown",
   "metadata": {},
   "source": [
    "<img src=\"graph.png\" width=800>"
   ]
  },
  {
   "cell_type": "markdown",
   "metadata": {},
   "source": [
    "This looks good: it classifies the points correctly, is clearly nonlinear, and all of the points are support vectors as the alpha values suggested."
   ]
  }
 ],
 "metadata": {
  "kernelspec": {
   "display_name": "Python 3 (ipykernel)",
   "language": "python",
   "name": "python3"
  },
  "language_info": {
   "codemirror_mode": {
    "name": "ipython",
    "version": 3
   },
   "file_extension": ".py",
   "mimetype": "text/x-python",
   "name": "python",
   "nbconvert_exporter": "python",
   "pygments_lexer": "ipython3",
   "version": "3.10.8 (tags/v3.10.8:aaaf517, Oct 11 2022, 16:50:30) [MSC v.1933 64 bit (AMD64)]"
  },
  "vscode": {
   "interpreter": {
    "hash": "46764ac3a747c7ca73c4630527f610bbe3bb23a5d08b09a3ce898d5bc25494fc"
   }
  }
 },
 "nbformat": 4,
 "nbformat_minor": 2
}
