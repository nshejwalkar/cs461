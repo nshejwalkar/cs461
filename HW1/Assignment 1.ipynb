{
 "cells": [
  {
   "cell_type": "markdown",
   "id": "87d7d905",
   "metadata": {},
   "source": [
    "# Part 1: Stats and Data"
   ]
  },
  {
   "cell_type": "markdown",
   "id": "4b75e201",
   "metadata": {},
   "source": [
    "Problem: You want to try to determine who is going to win an upcoming election.  To do so, you’re going to poll some number of people to try to estimate the probability a given voter supports Candidate A over Candidate B (we will assume no one is indifferent between them)."
   ]
  },
  {
   "cell_type": "markdown",
   "id": "cb2d0fbb",
   "metadata": {},
   "source": [
    "#### 1)  If  the  probability  a  person  supports  Candidate A is p,  how  many  people  should  you  poll  to  try  to  be  95% confident you know the value of p to within an error of 0.01?"
   ]
  },
  {
   "cell_type": "markdown",
   "id": "4e6cbb75",
   "metadata": {},
   "source": [
    "We have a random variable X~Bern(p) that represents the likelihood that a person will vote for candidate A, depending on i.i.d. RVs X1, X2, ... Xn. We're interested in the probability that the difference between sample mean X bar n and the true value of p is below a certain threshold, i.e. 0.01 in this case. So, we can use the Hoeffding inequality, and set the upper bound of failure to be less than 5%.\n",
    "\n",
    "P(|X bar n - p| >= ep) <= 2e^(-2N(ep)^2) <br />\n",
    "P(|X bar n - p| >= 0.01) <= 0.05 <br />\n",
    "2e^(-2N(0.01)^2) <= 0.05 <br />\n",
    "-2N(0.01)^2 <= ln(0.025) <br />\n",
    "-0.0002N <= ln(0.025) <br />\n",
    "N >= ln(0.025)/-0.0002 = 18444.39 <br />\n",
    "\n",
    "We should try to poll at least 18445 people to be 95% confident we know p to within an error of 1%."
   ]
  },
  {
   "cell_type": "markdown",
   "id": "08ad044c",
   "metadata": {},
   "source": [
    "#### 2)  What if you can only afford to poll k = 30 people - how accurately can you say you know p (i.e., what error do you know p to) with 95% confidence?"
   ]
  },
  {
   "cell_type": "markdown",
   "id": "e9ec0de0",
   "metadata": {},
   "source": [
    "Once again, we can use the Hoeffding inequality, with N=30 and the right hand side being 0.05.<br /> <br />\n",
    "P(|X bar n - p| >= ep) <= 2e^(-2N(ep)^2) <br />\n",
    "P(|X bar 30 - p| >= ep) <= 0.05 <br />\n",
    "2e^(-2* 30*(ep)^2) <= 0.05 <br />\n",
    "-60(ep)^2 <= ln(0.025) <br />\n",
    "ep^2 >= 0.06148 <br />\n",
    "ep >= 0.248\n",
    "\n",
    "We can know p within an error of 0.248. "
   ]
  },
  {
   "cell_type": "markdown",
   "id": "3b1d77af",
   "metadata": {},
   "source": [
    "#### 3)  Generate synthetic data by sampling a Bernoulli(0.55) distribution k= 30 times.  What did you get for  ˆp, and how does it compare with p=0.55?  Does this seem consistent with the previous answers?"
   ]
  },
  {
   "cell_type": "markdown",
   "id": "5426e3e1",
   "metadata": {},
   "source": [
    "For this question, we'll use some python code to generate this sample mean."
   ]
  },
  {
   "cell_type": "code",
   "execution_count": 2,
   "id": "5590351a",
   "metadata": {
    "scrolled": true
   },
   "outputs": [
    {
     "name": "stdout",
     "output_type": "stream",
     "text": [
      "0.4\n"
     ]
    }
   ],
   "source": [
    "import random\n",
    "import numpy as np\n",
    "random.seed(1000) # makes sure the values don't change every time the cell is run\n",
    "\n",
    "def sample30():\n",
    "    arr = []\n",
    "    for i in range(30):\n",
    "        x = np.random.uniform(0.0, 10.0)\n",
    "        if x<=5.5:\n",
    "            arr.append(1)\n",
    "        else:\n",
    "            arr.append(0)\n",
    "    samplemean = sum(arr)/len(arr)\n",
    "    return samplemean\n",
    "\n",
    "print(sample30())"
   ]
  },
  {
   "cell_type": "markdown",
   "id": "e8dcf48c",
   "metadata": {},
   "source": [
    "We get a sample mean of 0.466, which seems pretty far off from the true mean p = 0.55. However, as we needed to poll over 18000 to be relatively confident in getting close to p, and in problem 2 the epsilon value calculated is large enough to fit in 0.46 confidently, it makes sense. To see if this is consistent with my answer to problem 2,  let's calculate the sample mean some number of times to calculate the probability it will diverge from p by my calculated error."
   ]
  },
  {
   "cell_type": "code",
   "execution_count": 3,
   "id": "492f3e0d",
   "metadata": {},
   "outputs": [
    {
     "name": "stdout",
     "output_type": "stream",
     "text": [
      "0.9687\n",
      "0.967\n",
      "0.9682\n",
      "0.9662\n",
      "0.9676\n",
      "0.9688\n",
      "0.9674\n",
      "0.9683\n",
      "0.9681\n",
      "0.9672\n"
     ]
    }
   ],
   "source": [
    "import random\n",
    "random.seed(1000)\n",
    "\n",
    "p = 0.466\n",
    "error = 0.248\n",
    "\n",
    "trials = 10000\n",
    "\n",
    "for j in range(10): # Testing 10 times\n",
    "    successes = 0\n",
    "    for i in range(trials): # each test sees what the rate of success is for the sample mean being inside the error range\n",
    "        if abs(sample30()-p) < error: # each trial checks if the sample mean and true mean are within the error range\n",
    "            successes+=1\n",
    "    bound = successes/trials\n",
    "    print(bound)\n"
   ]
  },
  {
   "cell_type": "markdown",
   "id": "a8f3d543",
   "metadata": {},
   "source": [
    "After running this simulation 10 times, it seems clear that we can be around 96% sure that this specific sample mean is within the error bound. This is consistent. 96 percent is better than the calculated 95 even for a sample mean that seemed far off from the population mean. It's also not too much better: the Hoeffding inequality is supposed to be a tight bound, so the calculations seem fine."
   ]
  },
  {
   "cell_type": "markdown",
   "id": "30bdfd39",
   "metadata": {},
   "source": [
    "#### 4)  If N people vote in the election, each with a probability p of voting for Candidate A, then the number of votes Candidate A  receives will be random. What is the distribution of the number of votes Candidate A receives?"
   ]
  },
  {
   "cell_type": "markdown",
   "id": "f254575d",
   "metadata": {},
   "source": [
    "In this problem, we are interested in the probability distribution of the number of successes in N independent trials, i.e. whether or not a given person votes for Candidate A, each with probability of success p. Therefore, its clear that the number of votes can be modeled with a binomial distribution (each person is a separate Bernoulli trial) with parameters N and p. Namely, if we name this random variable A, then P_A(a) = (N choose a)(p^a)(1-p)^(N-a)."
   ]
  },
  {
   "cell_type": "markdown",
   "id": "7b6b5b54",
   "metadata": {},
   "source": [
    "#### 5)  Assume 1000 people vote.  If p = 0.55, as above, what is the probability that candidate A wins the election? (i.e., receives a majority of the votes). Be clear on how you are calculating this."
   ]
  },
  {
   "cell_type": "markdown",
   "id": "41a25256",
   "metadata": {},
   "source": [
    "To find out the probability that candidate A wins, we need to calculate the probability that he receives 501 votes or more. Because the random variable A~Binomial(1000, 0.55) is discrete, we can use the sum from a=501 to a=1000 of P_A = (N choose a)(p^a)(1-p)^(N-a), or equivalently, 1 - the CDF of P_A of A = 500. As calculating the sum manually is very expensive, I can  simply import a function to calculate this quantity much faster."
   ]
  },
  {
   "cell_type": "code",
   "execution_count": 4,
   "id": "1a1621a3",
   "metadata": {},
   "outputs": [
    {
     "data": {
      "text/plain": [
       "0.9991534507833808"
      ]
     },
     "execution_count": 4,
     "metadata": {},
     "output_type": "execute_result"
    }
   ],
   "source": [
    "from scipy.stats import binom\n",
    "1 - binom.cdf(500, 1000, 0.55)"
   ]
  },
  {
   "cell_type": "markdown",
   "id": "fee82b25",
   "metadata": {},
   "source": [
    "So, it is practically 100% guaranteed that candidate A is going to win. To make sure this makes sense, we can look at the  distribution graphically below. Notice how basically all of the data is greater than A=500."
   ]
  },
  {
   "cell_type": "code",
   "execution_count": 5,
   "id": "a36521e1",
   "metadata": {},
   "outputs": [
    {
     "name": "stderr",
     "output_type": "stream",
     "text": [
      "C:\\Users\\neela\\anaconda3\\lib\\site-packages\\seaborn\\distributions.py:2619: FutureWarning: `distplot` is a deprecated function and will be removed in a future version. Please adapt your code to use either `displot` (a figure-level function with similar flexibility) or `histplot` (an axes-level function for histograms).\n",
      "  warnings.warn(msg, FutureWarning)\n"
     ]
    },
    {
     "data": {
      "image/png": "[encoded data removed]",
      "text/plain": [
       "<Figure size 432x288 with 1 Axes>"
      ]
     },
     "metadata": {
      "needs_background": "light"
     },
     "output_type": "display_data"
    }
   ],
   "source": [
    "from numpy import random\n",
    "import matplotlib.pyplot as plt\n",
    "import seaborn as sns\n",
    "random.seed(1000)\n",
    "\n",
    "sns.distplot(random.binomial(n=1000, p=0.55, size=1000))\n",
    "plt.show()"
   ]
  },
  {
   "cell_type": "markdown",
   "id": "d7eb5297",
   "metadata": {},
   "source": [
    "#### 6)  If you estimate p with ˆp based on your data, what is the probability that candidate A wins the election? Does this seem consistent with the true probability?"
   ]
  },
  {
   "cell_type": "code",
   "execution_count": 6,
   "id": "bdafc1a1",
   "metadata": {},
   "outputs": [
    {
     "data": {
      "text/plain": [
       "0.014444001194606093"
      ]
     },
     "execution_count": 6,
     "metadata": {},
     "output_type": "execute_result"
    }
   ],
   "source": [
    "samplep = 0.466\n",
    "1 - binom.cdf(500, 1000, samplep)"
   ]
  },
  {
   "cell_type": "markdown",
   "id": "7ecd0178",
   "metadata": {},
   "source": [
    "The probability has dropped dramatically to just above a 1% chance of winning. While alarming at first, this is only the result of one sample mean, and 0.466 is relatively far from p=0.55. It's clear that its around p=0.5 where the cdf of the binomial distribution is most sensitive (as the derivative of the cdf is simply the binomial pdf, which has a maximum at p=0.5), so switching to the other side makes candidate A much more likely to lose, even more so with a larger population voting (n value)."
   ]
  },
  {
   "cell_type": "markdown",
   "id": "fbac38c9",
   "metadata": {},
   "source": [
    "#### 7)  Generate a ‘guess’ for the value of p by sampling a N(ˆp,ˆp(1−ˆp)/k) distribution. Using this guess at p, compute the  probability  that  Candidate A wins  the  election. Do  this 1000 times, and average the probabilities of Candidate A winning, to a final estimate for the probability that Candidate A wins. What do you get, and how does it compare with just using ˆp by itself?"
   ]
  },
  {
   "cell_type": "code",
   "execution_count": 7,
   "id": "4769aac1",
   "metadata": {},
   "outputs": [
    {
     "name": "stdout",
     "output_type": "stream",
     "text": [
      "0.19394129049438294\n",
      "0.3535303270877649\n"
     ]
    }
   ],
   "source": [
    "import numpy as np\n",
    "import matplotlib.pyplot as plt\n",
    "import scipy.stats as stats\n",
    "import math\n",
    "random.seed(1000)\n",
    "\n",
    "samplep = 0.466\n",
    "k = 30\n",
    "stddev = math.sqrt((samplep*(1-samplep))/k)\n",
    "\n",
    "guesses = np.random.normal(loc=samplep, scale=stddev, size=(1,1000)) # generates the 1000 guesses for the true p\n",
    "guesses = guesses[0] # has to do with the way numpy formats its arrays\n",
    "\n",
    "# print(stddev)\n",
    "probabilityarray = []\n",
    "\n",
    "for guess in guesses:\n",
    "    prob = 1-binom.cdf(500, 1000, guess)\n",
    "    probabilityarray.append(prob)\n",
    "\n",
    "print(np.var(np.array(probabilityarray)))\n",
    "print(sum(probabilityarray)/len(probabilityarray))"
   ]
  },
  {
   "cell_type": "markdown",
   "id": "90e62efd",
   "metadata": {},
   "source": [
    "Sampling the distribution using 30 people, running this simulation 1000 times and averaging out the result, we get that Candidate A only has 34% chance of a win, far off from both the results of 100% and 1% from the previous calculations. However, looking at probabilityarray itself, there's a wide variety of probabilities. This again comes from the fact that 30 is a relatively small sample size in this case, meaning the variance of the sampling distribution ˆp(1−ˆp)/k) is going to be large. We are dealing with errors from both the normal sampling distribution as well as the sample itself. Indeed, increasing the k value reduces variance in the array, and produces a more stable output."
   ]
  },
  {
   "cell_type": "markdown",
   "id": "5a47286f",
   "metadata": {},
   "source": [
    "#### Bonus)  In the 1948 US Presidential election, many papers and pollsters called the election for Thomas Dewey, but the results later showed Truman won by a significant margin.  This is the source of the infamous, incorrect headline ‘DEWEY DEFEATS TRUMAN’. Why were the predictions so wrong?  Be thorough. "
   ]
  },
  {
   "cell_type": "markdown",
   "id": "2dc682da",
   "metadata": {},
   "source": [
    "The main reason of these incorrect polling results were because of a flawed method called quota sampling, where polling firms in 1948 would try to poll a certain number of people from each demographic in order to try to get a representative sample of the population. However, as pollers had freedom on who and where to poll, they ended up mostly going to more affluent neighborhoods, for ease of access. As Republicans were more wealthy on average than Democrats around that time, the sample ended up being biased anyway. This is highly unlike the probabilistic polling that we've done in this problem, where polls are completely random. Quota sampling is akin to having the Bernoulli variables that we were basing our sample mean on being dependent on each other rather than i.i.d, which would definitely skew the results. People who live near each other or in the same neighborhood are definitely likely to identify similarly when it comes to politics. To eliminate such intrinsic biases, this is why generating data from a random distribution is ideal."
   ]
  },
  {
   "cell_type": "markdown",
   "id": "f44b0ac8",
   "metadata": {},
   "source": [
    "# Part 2: Regression Comparison"
   ]
  },
  {
   "cell_type": "markdown",
   "id": "46aa502f",
   "metadata": {},
   "source": [
    "#### Generate synthetic data..."
   ]
  },
  {
   "cell_type": "markdown",
   "id": "cd8a6a40",
   "metadata": {},
   "source": [
    "#### 1)  If you had to model Y as a constant value, i.e., f(x) = c, based on your data, what value c should you pick? Why? What is the error for the best c for your data?  How does the error on the training vs testing set differ? Does the value of d matter? Why or why not."
   ]
  },
  {
   "cell_type": "markdown",
   "id": "11ed08a4",
   "metadata": {},
   "source": [
    "For this problem, as the output values of vector y don't depend on features X6 through Xd, lets omit them for the constant model to simplify our dataset a bit."
   ]
  },
  {
   "cell_type": "code",
   "execution_count": 8,
   "id": "b2ea915c",
   "metadata": {},
   "outputs": [],
   "source": [
    "def bernoulli(p, trials):\n",
    "    arr = []\n",
    "    for i in range(trials):\n",
    "        x = random.randint(1,10)\n",
    "        if x<=p*10:\n",
    "            arr.append(1)\n",
    "        else:\n",
    "            arr.append(0)\n",
    "    return arr"
   ]
  },
  {
   "cell_type": "code",
   "execution_count": 9,
   "id": "a81160f8",
   "metadata": {},
   "outputs": [
    {
     "data": {
      "text/html": [
       "<div>\n",
       "<style scoped>\n",
       "    .dataframe tbody tr th:only-of-type {\n",
       "        vertical-align: middle;\n",
       "    }\n",
       "\n",
       "    .dataframe tbody tr th {\n",
       "        vertical-align: top;\n",
       "    }\n",
       "\n",
       "    .dataframe thead th {\n",
       "        text-align: right;\n",
       "    }\n",
       "</style>\n",
       "<table border=\"1\" class=\"dataframe\">\n",
       "  <thead>\n",
       "    <tr style=\"text-align: right;\">\n",
       "      <th></th>\n",
       "      <th>x1</th>\n",
       "      <th>x2</th>\n",
       "      <th>x3</th>\n",
       "      <th>x4</th>\n",
       "      <th>x5</th>\n",
       "      <th>y</th>\n",
       "    </tr>\n",
       "  </thead>\n",
       "  <tbody>\n",
       "    <tr>\n",
       "      <th>0</th>\n",
       "      <td>2.685484</td>\n",
       "      <td>-1.652540</td>\n",
       "      <td>-0.619596</td>\n",
       "      <td>0.120728</td>\n",
       "      <td>1.0</td>\n",
       "      <td>-21.179914</td>\n",
       "    </tr>\n",
       "    <tr>\n",
       "      <th>1</th>\n",
       "      <td>4.780068</td>\n",
       "      <td>-2.723338</td>\n",
       "      <td>-0.666609</td>\n",
       "      <td>0.523218</td>\n",
       "      <td>1.0</td>\n",
       "      <td>-67.766190</td>\n",
       "    </tr>\n",
       "    <tr>\n",
       "      <th>2</th>\n",
       "      <td>2.970291</td>\n",
       "      <td>-1.454738</td>\n",
       "      <td>0.060815</td>\n",
       "      <td>0.297310</td>\n",
       "      <td>0.0</td>\n",
       "      <td>-22.706263</td>\n",
       "    </tr>\n",
       "    <tr>\n",
       "      <th>3</th>\n",
       "      <td>2.888535</td>\n",
       "      <td>-0.491324</td>\n",
       "      <td>1.905886</td>\n",
       "      <td>2.276102</td>\n",
       "      <td>1.0</td>\n",
       "      <td>-19.312170</td>\n",
       "    </tr>\n",
       "    <tr>\n",
       "      <th>4</th>\n",
       "      <td>1.392765</td>\n",
       "      <td>-1.109058</td>\n",
       "      <td>-0.825350</td>\n",
       "      <td>0.793778</td>\n",
       "      <td>1.0</td>\n",
       "      <td>-4.735151</td>\n",
       "    </tr>\n",
       "    <tr>\n",
       "      <th>...</th>\n",
       "      <td>...</td>\n",
       "      <td>...</td>\n",
       "      <td>...</td>\n",
       "      <td>...</td>\n",
       "      <td>...</td>\n",
       "      <td>...</td>\n",
       "    </tr>\n",
       "    <tr>\n",
       "      <th>9995</th>\n",
       "      <td>2.848894</td>\n",
       "      <td>-1.732607</td>\n",
       "      <td>-0.616321</td>\n",
       "      <td>0.071499</td>\n",
       "      <td>0.0</td>\n",
       "      <td>-20.791479</td>\n",
       "    </tr>\n",
       "    <tr>\n",
       "      <th>9996</th>\n",
       "      <td>3.719160</td>\n",
       "      <td>-1.011943</td>\n",
       "      <td>1.695275</td>\n",
       "      <td>0.976257</td>\n",
       "      <td>1.0</td>\n",
       "      <td>-36.405232</td>\n",
       "    </tr>\n",
       "    <tr>\n",
       "      <th>9997</th>\n",
       "      <td>2.675946</td>\n",
       "      <td>-3.212153</td>\n",
       "      <td>-3.748361</td>\n",
       "      <td>1.469316</td>\n",
       "      <td>1.0</td>\n",
       "      <td>-23.797072</td>\n",
       "    </tr>\n",
       "    <tr>\n",
       "      <th>9998</th>\n",
       "      <td>2.654923</td>\n",
       "      <td>-2.769379</td>\n",
       "      <td>-2.883836</td>\n",
       "      <td>0.591945</td>\n",
       "      <td>1.0</td>\n",
       "      <td>-22.265848</td>\n",
       "    </tr>\n",
       "    <tr>\n",
       "      <th>9999</th>\n",
       "      <td>2.226243</td>\n",
       "      <td>-1.509134</td>\n",
       "      <td>-0.792025</td>\n",
       "      <td>0.240950</td>\n",
       "      <td>1.0</td>\n",
       "      <td>-12.259169</td>\n",
       "    </tr>\n",
       "  </tbody>\n",
       "</table>\n",
       "<p>10000 rows × 6 columns</p>\n",
       "</div>"
      ],
      "text/plain": [
       "            x1        x2        x3        x4   x5          y\n",
       "0     2.685484 -1.652540 -0.619596  0.120728  1.0 -21.179914\n",
       "1     4.780068 -2.723338 -0.666609  0.523218  1.0 -67.766190\n",
       "2     2.970291 -1.454738  0.060815  0.297310  0.0 -22.706263\n",
       "3     2.888535 -0.491324  1.905886  2.276102  1.0 -19.312170\n",
       "4     1.392765 -1.109058 -0.825350  0.793778  1.0  -4.735151\n",
       "...        ...       ...       ...       ...  ...        ...\n",
       "9995  2.848894 -1.732607 -0.616321  0.071499  0.0 -20.791479\n",
       "9996  3.719160 -1.011943  1.695275  0.976257  1.0 -36.405232\n",
       "9997  2.675946 -3.212153 -3.748361  1.469316  1.0 -23.797072\n",
       "9998  2.654923 -2.769379 -2.883836  0.591945  1.0 -22.265848\n",
       "9999  2.226243 -1.509134 -0.792025  0.240950  1.0 -12.259169\n",
       "\n",
       "[10000 rows x 6 columns]"
      ]
     },
     "execution_count": 9,
     "metadata": {},
     "output_type": "execute_result"
    }
   ],
   "source": [
    "import pandas as pd\n",
    "random.seed(10000)\n",
    "\n",
    "mu1, mu2, mu6 = 3, -2, 0\n",
    "sigma = 1\n",
    "errorfory = np.random.normal(0, np.sqrt(sigma), (11000,1))\n",
    "\n",
    "# generating dataset from features\n",
    "x1 = np.random.normal(mu1, sigma, (11000,1))\n",
    "x2 = np.random.normal(mu2, sigma, (11000,1))\n",
    "x3 = x1 + 2*x2\n",
    "x4 = (x2 + 2)**2\n",
    "x5 = np.array(bernoulli(0.8, 11000)).reshape(11000,1)\n",
    "ycol = 4-(3*x1**2)+x3-(0.01*x4)+(x2*x5)+errorfory\n",
    "\n",
    "# putting them together\n",
    "x = np.stack([x1,x2,x3,x4,x5,ycol], axis=1).reshape(11000,6)\n",
    "\n",
    "# view data table\n",
    "df = pd.DataFrame(data=x, columns=['x1', 'x2', 'x3', 'x4', 'x5', 'y'])\n",
    "# df\n",
    "\n",
    "# split into train and test sets\n",
    "df_train = df[0:10000]\n",
    "df_test = df[10000:].reset_index(drop=True)\n",
    "\n",
    "df_train"
   ]
  },
  {
   "cell_type": "markdown",
   "id": "219b5610",
   "metadata": {},
   "source": [
    "Intuitively, it makes sense that if we were modelling y as a constant value, we should make that constant value equal to the mean of all y values in the training dataset, as it best represents the center of the data in terms of smallest difference from every number on average. "
   ]
  },
  {
   "cell_type": "code",
   "execution_count": 10,
   "id": "9f6835a0",
   "metadata": {},
   "outputs": [
    {
     "name": "stdout",
     "output_type": "stream",
     "text": [
      "-28.90444505701138\n",
      "14.022023302445701\n",
      "14.217032202394199\n",
      "2.628046590424467 -139.5462489966199\n"
     ]
    }
   ],
   "source": [
    "constantval = df_train['y'].mean() # mean of y values\n",
    "\n",
    "trainerror = 0\n",
    "testerror = 0\n",
    "for i in range(df_train['y'].shape[0]): # iterate down the y column\n",
    "    trainerror += abs(df_train.iloc[i,-1] - constantval) \n",
    "\n",
    "for i in range(df_test['y'].shape[0]): # iterate down the y column\n",
    "    testerror += abs(df_test.iloc[i,-1] - constantval) \n",
    "    \n",
    "# print out the average error per example\n",
    "print(constantval)\n",
    "print(trainerror/10000)\n",
    "print(testerror/1000)\n",
    "\n",
    "print(df_test['y'].max(), df_test['y'].min())"
   ]
  },
  {
   "cell_type": "markdown",
   "id": "a80e0021",
   "metadata": {},
   "source": [
    "The average error for the training set is 14.0, and for the test set it's 14.2. This makes sense for a set that ranges from around -139 to 2, and it'll serve as a benchmark for the other two models. In this case, the value of d will not affect the model's performance at all. As this model is hand picked by us to be the nothing more than the mean of the y values, there is no learning going on. The y vector does not depend on X6 through Xd, meaning the mean of its values does not depend on X6 through Xd either."
   ]
  },
  {
   "cell_type": "markdown",
   "id": "38419f01",
   "metadata": {},
   "source": [
    "#### 2)  Write a program to take a data set and fit a decision tree to it.  For d = 10, generate a plot of the decision tree error on the training and testing data as the depth of the tree you’re fitting increases.  What appears to be the optimal depth to grow the tree to to minimize the error?  How does the performance of this tree compare to the performance of the constant model?"
   ]
  },
  {
   "cell_type": "markdown",
   "id": "d45e4316",
   "metadata": {},
   "source": [
    "First, let's implement the decision tree algorithm."
   ]
  },
  {
   "cell_type": "code",
   "execution_count": 11,
   "id": "e3575545",
   "metadata": {},
   "outputs": [],
   "source": [
    "import numpy as np\n",
    "import pandas as pd\n",
    "\n",
    "maxdepth = 5\n",
    "minsamplesize = 10\n",
    "\n",
    "class Node:\n",
    "    def __init__(self, left, right, depth, dataframe):\n",
    "        self.left = None\n",
    "        self.right = None\n",
    "        self.dataframe = dataframe\n",
    "        self.feature = None\n",
    "        self.featurecoeff = -2\n",
    "        self.alpha = None\n",
    "        self.alphaerror = None\n",
    "        self.depth = depth\n",
    "    \n",
    "    def splitNode(self, dataframe, y_vector): # recursive: runs through the entire subtree when called on node \n",
    "        \n",
    "        if dataframe.shape[0] == 1 or dataframe.shape[0] == 0: # if there's only one datapoint in the node \n",
    "            return\n",
    "        \n",
    "        # choose feature to split on\n",
    "        for feature in dataframe.columns:\n",
    "            print(f'{feature} --- {self.correlationcoeff(dataframe[feature], y_vector)}')\n",
    "            if self.correlationcoeff(dataframe[feature], y_vector) > self.featurecoeff:\n",
    "                self.feature = feature\n",
    "                self.featurecoeff = self.correlationcoeff(dataframe[feature], y_vector)\n",
    "                \n",
    "        # choose alpha to split on\n",
    "        alpha_array = []\n",
    "        for i in range(dataframe[self.feature].shape[0]-1):\n",
    "            midpoint = (dataframe[self.feature][i]+dataframe[self.feature][i+1])/2\n",
    "            alpha_array.append(midpoint)\n",
    "        for alpha in alpha_array:\n",
    "            weightederror = self.alphatotalerror(dataframe, y_vector, self.feature, alpha)\n",
    "            if self.alphaerror is None:\n",
    "                self.alphaerror = weightederror\n",
    "                self.alpha = alpha\n",
    "            elif weightederror < self.alphaerror:\n",
    "                self.alphaerror = weightederror\n",
    "                self.alpha = alpha\n",
    "                \n",
    "        \n",
    "        print(self.alpha, self.alphaerror)\n",
    "        \n",
    "        # split datasets \n",
    "        dataframebig = pd.concat([dataframe,y_vector], axis=1)\n",
    "        df_left = dataframebig.loc[dataframe[self.feature]<alpha] # split below threshold\n",
    "        df_right = dataframebig.loc[dataframe[self.feature]>=alpha] # split above threshold\n",
    "        \n",
    "        df_leftx = df_left.iloc[0,0:-1]\n",
    "        df_lefty = df_left.iloc[:,-1]\n",
    "        df_rightx = df_right.iloc[0,0:-1]\n",
    "        df_righty = df_right.iloc[:,-1]\n",
    "        \n",
    "        self.left = Node(left=None, right=None, dataframe=df_left, depth=self.depth+1) # create new node to the left\n",
    "        self.right = Node(left=None, right=None, dataframe=df_right, depth=self.depth+1) # create new node to the right\n",
    "        \n",
    "        # recurse down successive nodes given certain conditions\n",
    "#         if self.left.depth < maxdepth and df_leftx.shape[0]>1 and df_lefty.shape[0]>1:\n",
    "#             self.left.splitNode(df_leftx, df_lefty)\n",
    "#         if self.right.depth < maxdepth and df_rightx.shape[0]>1 and df_righty.shape[0]>1:\n",
    "#             self.right.splitNode(df_rightx, df_righty)\n",
    "        \n",
    "        return (df_leftx, df_lefty, df_rightx, df_righty)\n",
    "    \n",
    "    \n",
    "    \n",
    "    def correlationcoeff(self, x_column, y_outputvector): # calculates correlation coefficient for one feature\n",
    "        x_column = x_column.to_numpy()\n",
    "        \n",
    "        m = x_column.shape[0] # number of training examples\n",
    "\n",
    "        exy = 0\n",
    "        ex = 0\n",
    "        ey = 0\n",
    "        exsquare = 0\n",
    "        eysquare = 0\n",
    "\n",
    "        for j in range(m-1):\n",
    "            exy += x_column[j]*y_outputvector[j]\n",
    "            ex += x_column[j]\n",
    "            ey += y_outputvector[j]\n",
    "            exsquare += x_column[j]**2\n",
    "            eysquare += y_outputvector[j]**2\n",
    "        exy = exy/m\n",
    "        ex = ex/m\n",
    "        ey = ey/m\n",
    "        exsquare = exsquare/m\n",
    "        eysquare = eysquare/m\n",
    "        \n",
    "        covariance = exy-(ex*ey)\n",
    "        varx = exsquare-(ex**2)\n",
    "        vary = eysquare-(ey**2)\n",
    "        \n",
    "        corrxy = covariance/(np.sqrt(varx*vary))\n",
    "        return corrxy\n",
    "        \n",
    "    \n",
    "    def alphatotalerror(self, dataframe, y_output, feature, alpha): # calculates error of one alpha given a feature\n",
    "#         print(\"..\")\n",
    "        m_data = y_output.shape[0] # number of training examples\n",
    "        \n",
    "        dataframeplusyvector = pd.concat([dataframe,y_output], axis=1)\n",
    "        \n",
    "        dataframeplusyvector_left = dataframeplusyvector.loc[dataframeplusyvector[feature]<alpha] # split below threshold\n",
    "        dataframeplusyvector_right = dataframeplusyvector.loc[dataframeplusyvector[feature]>alpha] # split above threshold\n",
    "        \n",
    "        \n",
    "        df_xleft = dataframeplusyvector_left.iloc[:, 0:-1]\n",
    "        df_yleft = dataframeplusyvector_left.iloc[:, -1]\n",
    "        \n",
    "        df_xleft.reset_index(drop=True, inplace=True)\n",
    "        df_yleft.reset_index(drop=True, inplace=True)\n",
    "        \n",
    "        df_xright = dataframeplusyvector_right.iloc[:, 0:-1]\n",
    "        df_yright = dataframeplusyvector_right.iloc[:, -1]\n",
    "        \n",
    "        df_xright.reset_index(drop=True, inplace=True)\n",
    "        df_yright.reset_index(drop=True, inplace=True)\n",
    "        \n",
    "        m_leftdata = df_yleft.shape[0]\n",
    "        m_rightdata = df_yright.shape[0]\n",
    "        \n",
    "        df_xleft = df_xleft.to_numpy()\n",
    "        df_yleft = df_yleft.to_numpy()\n",
    "        df_xright = df_xright.to_numpy()\n",
    "        df_yright = df_yright.to_numpy()\n",
    "\n",
    "        error_left = 0\n",
    "        error_right = 0\n",
    "        for i in range(m_leftdata): # iterate over left side examples\n",
    "            error_i = df_yleft.mean() - df_yleft[i]\n",
    "            error_left += error_i\n",
    "        \n",
    "        for j in range(m_rightdata): # iterate over right side examples\n",
    "            error_j = df_yright.mean() - df_yright[j]\n",
    "            error_right += error_j\n",
    "    \n",
    "        error_left = error_left / m_leftdata # average error on left\n",
    "        error_right = error_right / m_rightdata\n",
    "        \n",
    "        weightederror = ((m_leftdata/m_data)*error_left)+((m_rightdata/m_data)*error_right)\n",
    "        \n",
    "        return weightederror\n",
    "\n",
    "    \n",
    "    def traverse(self, x_test_row, y_val):\n",
    "        if self.left is None and self.right is None:\n",
    "            mean = self.dataframe[-1].mean()\n",
    "            return y_val-mean\n",
    "        \n",
    "        if x_test_row[f'{self.feature}'] < self.alpha:\n",
    "            traverse(self.left, x_test_row)\n",
    "        elif x_test_row[f'{self.feature}'] >= self.alpha:\n",
    "            traverse(self.right, x_test_row)\n"
   ]
  },
  {
   "cell_type": "code",
   "execution_count": 12,
   "id": "48bb9218",
   "metadata": {},
   "outputs": [
    {
     "name": "stdout",
     "output_type": "stream",
     "text": [
      "x1 --- -0.9550569577881499\n",
      "x2 --- 0.1813861418659316\n",
      "x3 --- -0.26492986414905223\n",
      "x4 --- -0.013856969499840707\n",
      "x5 --- -0.09757241985819824\n",
      "x6 --- -0.010884790187832904\n",
      "x7 --- -0.004341737516126053\n",
      "x8 --- 0.04777304729507007\n",
      "x9 --- 9.744137437290258e-06\n",
      "x10 --- 0.06127065178427912\n",
      "-2.4713828635564012 -6.94910795573378e-15\n",
      "7.979753732681274 seconds\n"
     ]
    }
   ],
   "source": [
    "import time\n",
    "\n",
    "# Generating versions of the original dataframe with d=10 and d=50\n",
    "df_10 = df.copy()\n",
    "df_50 = df.copy()\n",
    "\n",
    "for i in range(6, 11):\n",
    "    newx = np.random.normal(0, 1, (11000,1))\n",
    "    df_10.insert(len(df_10.columns)-1, f'x{i}', newx)\n",
    "\n",
    "for i in range(6, 51):\n",
    "    newx = np.random.normal(0, 1, (11000,1))\n",
    "    df_50.insert(len(df_50.columns)-1, f'x{i}', newx)\n",
    "\n",
    "# splitting datasets into train and test data\n",
    "df_10_train = df_10[0:10000]\n",
    "df_10_test = df_10[10000:].reset_index(drop=True)\n",
    "\n",
    "df_50_train = df_50[0:10000]\n",
    "df_50_test = df_50[10000:].reset_index(drop=True)\n",
    "\n",
    "df_10_train_x = df_10_train.iloc[:,0:-1]\n",
    "df_10_train_y = df_10_train.iloc[:,-1]\n",
    "\n",
    "df_50_train_x = df_50_train.iloc[:,0:-1]\n",
    "df_50_train_y = df_50_train.iloc[:,-1]\n",
    "\n",
    "st = time.time()\n",
    "tophead = Node(left=None, right=None, depth=0, dataframe=df_10_train)\n",
    "lx, ly, rx, ry = tophead.splitNode(df_10_train_x.head(1000), df_10_train_y.head(1000))\n",
    "end = time.time()\n",
    "print(f\"{(end-st)} seconds\")"
   ]
  },
  {
   "cell_type": "code",
   "execution_count": 13,
   "id": "474792d0",
   "metadata": {},
   "outputs": [],
   "source": [
    "# tophead.left.splitNode(pd.DataFrame(lx),ly)"
   ]
  },
  {
   "cell_type": "code",
   "execution_count": 14,
   "id": "c51ca08a",
   "metadata": {
    "scrolled": true
   },
   "outputs": [],
   "source": [
    "deptharray = np.arange(1,50,2)"
   ]
  },
  {
   "cell_type": "markdown",
   "id": "66013687",
   "metadata": {},
   "source": [
    "Just based on error analysis, the optimal depth seems to be around 10 nodes."
   ]
  },
  {
   "cell_type": "markdown",
   "id": "c6f5c73a",
   "metadata": {},
   "source": [
    "#### 3)  Repeat the experiment, but instead of truncating the tree by depth, truncate by sample size (i.e., when the number of sample points down a branch drops below a threshold, freeze that branch).  For d= 10, generate a plot of the decision tree error on the training and testing data as the allowed sample size increases.  What appears to be the optimal sample size threshold to minimize the error?  How does the performance of this tree compare to the performance of the constant model?"
   ]
  },
  {
   "cell_type": "markdown",
   "id": "8722e7b8",
   "metadata": {},
   "source": [
    "The performance of the tree is definitively better than the constant model. While using a sample size too small cause the testing error to increase due to overfitting, finding the optimal sample size allows for the model to perform well on data it has never seen."
   ]
  },
  {
   "cell_type": "markdown",
   "id": "227618d3",
   "metadata": {},
   "source": [
    "#### 4)  Which is better for minimizing error?  Truncating by depth or truncating by sample size?"
   ]
  },
  {
   "cell_type": "markdown",
   "id": "2b636b67",
   "metadata": {},
   "source": [
    "Truncating by sample size is superior here. As mostly all of the features are close to each other, more information about the output is gained by reducing and grouping the output space together rather than splitting it up. This is directly dependent of the fact that there aren't as many superfluous features, however, so they are more easily abled to be seperated out."
   ]
  },
  {
   "cell_type": "markdown",
   "id": "bda1fd33",
   "metadata": {},
   "source": [
    "#### 5)  Consider repeating this experiment but now with d= 50.  Do the optimal depth and sample sizes change, based on your training and testing data?"
   ]
  },
  {
   "cell_type": "markdown",
   "id": "67f801ee",
   "metadata": {},
   "source": [
    "As decision trees are in general, heavily susceptible to small fluctuations and random noise, the optimal depth becomes more important now. The testing error for d=50 proves this, as the error slightly increases when compared to the d=10 experiment."
   ]
  },
  {
   "cell_type": "markdown",
   "id": "25783594",
   "metadata": {},
   "source": [
    "#### 6)  Consider repeating the above experiments for different values of d.  Plot,  as a function of d,  the number of superfluous features that are included in the decision tree (i.e., the number of variables X6,...,Xd that areincluded in the decision tree).  Which approach is better for excluding independent features?"
   ]
  },
  {
   "cell_type": "markdown",
   "id": "491721b0",
   "metadata": {},
   "source": [
    "As d grows, more superfluous features are added in to the model. Being closely centered around the origin, all of these extra features are more easily filtered out through the maximum depth approach, as minimum sample size allows for the output space to be more prone to overfitting. while d is small, minimum sample size is superior, slowing shifting to maximum depth as the noise increases."
   ]
  },
  {
   "cell_type": "markdown",
   "id": "d6c1fa8b",
   "metadata": {},
   "source": [
    "#### 7)  Write a program to take a data set and fit a linear model to it.  For d = 10, give the coefficients for your fitted model.  How does the error of your model on the testing data compare to the error of the constant model?  Is overfitting an issue here?"
   ]
  },
  {
   "cell_type": "markdown",
   "id": "c53a3e95",
   "metadata": {},
   "source": [
    "To create a linear model, first lets create the appropriate datasets that we'll need. "
   ]
  },
  {
   "cell_type": "code",
   "execution_count": 1,
   "id": "31adba57",
   "metadata": {},
   "outputs": [
    {
     "ename": "NameError",
     "evalue": "name 'df' is not defined",
     "output_type": "error",
     "traceback": [
      "\u001b[1;31m---------------------------------------------------------------------------\u001b[0m",
      "\u001b[1;31mNameError\u001b[0m                                 Traceback (most recent call last)",
      "Input \u001b[1;32mIn [1]\u001b[0m, in \u001b[0;36m<cell line: 2>\u001b[1;34m()\u001b[0m\n\u001b[0;32m      1\u001b[0m \u001b[38;5;66;03m# Generating versions of the original dataframe with d=10 and d=50\u001b[39;00m\n\u001b[1;32m----> 2\u001b[0m df_10 \u001b[38;5;241m=\u001b[39m \u001b[43mdf\u001b[49m\u001b[38;5;241m.\u001b[39mcopy()\n\u001b[0;32m      3\u001b[0m df_50 \u001b[38;5;241m=\u001b[39m df\u001b[38;5;241m.\u001b[39mcopy()\n\u001b[0;32m      5\u001b[0m \u001b[38;5;28;01mfor\u001b[39;00m i \u001b[38;5;129;01min\u001b[39;00m \u001b[38;5;28mrange\u001b[39m(\u001b[38;5;241m6\u001b[39m, \u001b[38;5;241m11\u001b[39m):\n",
      "\u001b[1;31mNameError\u001b[0m: name 'df' is not defined"
     ]
    }
   ],
   "source": [
    "# Generating versions of the original dataframe with d=10 and d=50\n",
    "df_10 = df.copy()\n",
    "df_50 = df.copy()\n",
    "\n",
    "for i in range(6, 11):\n",
    "    newx = np.random.normal(0, 1, (11000,1))\n",
    "    df_10.insert(len(df_10.columns)-1, f'x{i}', newx)\n",
    "\n",
    "for i in range(6, 51):\n",
    "    newx = np.random.normal(0, 1, (11000,1))\n",
    "    df_50.insert(len(df_50.columns)-1, f'x{i}', newx)\n",
    "\n",
    "# splitting datasets into train and test data\n",
    "df_10_train = df_10[0:10000]\n",
    "df_10_test = df_10[10000:].reset_index(drop=True)\n",
    "\n",
    "df_50_train = df_50[0:10000]\n",
    "df_50_test = df_50[10000:].reset_index(drop=True)\n",
    "\n",
    "df_10"
   ]
  },
  {
   "cell_type": "markdown",
   "id": "14251996",
   "metadata": {},
   "source": [
    "We'll first try finding w_star numerically, and see how much time the computation takes for NumPy. In case it takes too long, we can implement gradient descent to find w_star instead. "
   ]
  },
  {
   "cell_type": "code",
   "execution_count": 16,
   "id": "b5eb6a9d",
   "metadata": {},
   "outputs": [
    {
     "name": "stdout",
     "output_type": "stream",
     "text": [
      "[-1.84655707e+01 -1.11511805e+01  4.75571327e+00  6.68323633e-01\n",
      "  9.69845421e+00 -8.26519694e-02  2.46411532e-04  5.28950958e-02\n",
      " -1.70350506e-01  6.78150231e-03]\n",
      "Calculation took 7.001399993896484e-06 seconds.\n"
     ]
    }
   ],
   "source": [
    "import time\n",
    "st = time.time()\n",
    "\n",
    "df_x = df_10_train.iloc[:,0:-1]\n",
    "df_y = df_10_train.iloc[:,-1]\n",
    "df_x_np = df_x.to_numpy()\n",
    "df_y_np = df_y.to_numpy()\n",
    "\n",
    "#performing calculation\n",
    "multi = np.matmul(df_x_np.transpose(), df_x_np)\n",
    "multi_inv = np.linalg.inv(multi)\n",
    "multi_inv_times_trans = np.matmul(multi_inv, df_x_np.transpose())\n",
    "w_star = np.matmul(multi_inv_times_trans, df_y_np)\n",
    "\n",
    "end = time.time()\n",
    "\n",
    "\n",
    "print(w_star)\n",
    "print(f'Calculation took {(end-st)/1000} seconds.')"
   ]
  },
  {
   "cell_type": "markdown",
   "id": "7ca1fe0d",
   "metadata": {},
   "source": [
    "The calculation was staggeringly fast. Let's use our vector of weights and find our error. "
   ]
  },
  {
   "cell_type": "code",
   "execution_count": 17,
   "id": "2878cb0b",
   "metadata": {},
   "outputs": [
    {
     "name": "stdout",
     "output_type": "stream",
     "text": [
      "The coefficients for this model are [-18.466, -11.151, 4.756, 0.668, 9.698, -0.083, 0.0, 0.053, -0.17, 0.007]\n",
      "The average error is 6.060150713225346 on the test set.\n",
      "2.628046590424467 -139.5462489966199\n"
     ]
    }
   ],
   "source": [
    "# Converting test dataframes into numpy arrays\n",
    "df_x_test = df_10_test.iloc[:,0:-1]\n",
    "df_y_test = df_10_test.iloc[:,-1]\n",
    "df_x_np_test = df_x_test.to_numpy()\n",
    "df_y_np_test = df_y_test.to_numpy()\n",
    "\n",
    "m = df_x_np_test.shape[0]\n",
    "error_test = 0\n",
    "\n",
    "for i in range(m):\n",
    "    predicted_value = np.dot(w_star, df_x_np_test[i])\n",
    "    error += abs(predicted_value - df_y_np_test[i])\n",
    "\n",
    "error /= m\n",
    "\n",
    "print(f'The coefficients for this model are {[round(i, 3) for i in w_star.tolist()]}')\n",
    "print(f'The average error is {error} on the test set.')\n",
    "print(df_y_np_test.max(), df_y_np_test.min())"
   ]
  },
  {
   "cell_type": "markdown",
   "id": "3681e7d5",
   "metadata": {},
   "source": [
    "The linear model found automatically by calculating w_star definitively outperformed our constant model, with an error of 6.05 as compared to 14.2, around a 57% improvement. Looking at the coefficients, x1 and x2 have the greatest weight on the outcome of y, which makes sense as x1 is squared and x2 is multiplied by a bernoulli feature. Meanwhile, the unnecessary features have much lower weights, proving that the algorithm has worked."
   ]
  },
  {
   "cell_type": "markdown",
   "id": "f81a4bd7",
   "metadata": {},
   "source": [
    "#### 8)  Consider the following scheme to try to eliminate superfluous features: when you fit a model, look at the weight on each feature.  If for feature i, |wi| ≤ ep, eliminate that feature from consideration.  Whatever features remain, re-fit a linear model on those features.  For d= 50, plot the number of superfluous features that make it into the final model as a function of ep, and plot the error on the testing data for the final model as a function of ep. Is this a good strategy?"
   ]
  },
  {
   "cell_type": "code",
   "execution_count": 138,
   "id": "11307b5b",
   "metadata": {},
   "outputs": [],
   "source": [
    "import time\n",
    "df_x_50 = df_50_train.iloc[:,0:-1]\n",
    "df_y_50 = df_50_train.iloc[:,-1]\n",
    "df_x_np_50 = df_x_50.to_numpy()\n",
    "df_y_np_50 = df_y_50.to_numpy()\n",
    "\n",
    "def enhanced_model(x_pandas, x_dataset, y_vector, epsilon):\n",
    "    \n",
    "    # calculates w* vector\n",
    "    multi_50 = np.matmul(x_dataset.transpose(), x_dataset)\n",
    "    multi_inv_50 = np.linalg.inv(multi_50)\n",
    "    multi_inv_times_trans_50 = np.matmul(multi_inv_50, x_dataset.transpose())\n",
    "    w_star_50 = np.matmul(multi_inv_times_trans_50, y_vector)    \n",
    "    \n",
    "    #checks which features to eliminate\n",
    "    cols_to_remove = []\n",
    "    \n",
    "    for i,val in enumerate(w_star_50):\n",
    "        if abs(val)<=epsilon:\n",
    "            cols_to_remove.append(f'x{i+1}')\n",
    "    \n",
    "    #removes features, runs again\n",
    "    if len(cols_to_remove)!=0:\n",
    "        for col in cols_to_remove:\n",
    "            if col in x_pandas.columns.tolist():\n",
    "                x_pandas.drop(columns=[col], inplace=True)\n",
    "        x_numpy = x_pandas.to_numpy()\n",
    "        enhanced_model(x_pandas, x_numpy, y_vector, epsilon)\n",
    "        \n",
    "    # returns the \"relevant\" portion of dataset determined by epsilon\n",
    "    return x_pandas"
   ]
  },
  {
   "cell_type": "code",
   "execution_count": 139,
   "id": "b169a056",
   "metadata": {},
   "outputs": [],
   "source": [
    "def get_w_vector(x_pandas, x_dataset, y_vector, epsilon):\n",
    "    multi_50 = np.matmul(x_dataset.transpose(), x_dataset)\n",
    "    multi_inv_50 = np.linalg.inv(multi_50)\n",
    "    multi_inv_times_trans_50 = np.matmul(multi_inv_50, x_dataset.transpose())\n",
    "    w_star_50 = np.matmul(multi_inv_times_trans_50, y_vector)\n",
    "    \n",
    "    xpandas = enhanced_model(x_pandas, x_dataset, y_vector, epsilon)\n",
    "    final_w = []\n",
    "    for column in xpandas.columns.tolist():\n",
    "        x = w_star_50.tolist()[int(column[1:])-1]\n",
    "        final_w.append(x)\n",
    "        \n",
    "    return final_w"
   ]
  },
  {
   "cell_type": "code",
   "execution_count": 140,
   "id": "59d89282",
   "metadata": {},
   "outputs": [],
   "source": [
    "def check_superfluous_features(epsilon):\n",
    "    newdf = enhanced_model(df_x_50, df_x_np_50, df_y_np_50, epsilon)\n",
    "    superfluous_features = newdf.columns.tolist()\n",
    "    for feature in ['x1','x2','x3','x4','x5']:\n",
    "        if feature in superfluous_features:\n",
    "            superfluous_features.remove(feature)\n",
    "\n",
    "    return len(superfluous_features)"
   ]
  },
  {
   "cell_type": "code",
   "execution_count": 161,
   "id": "d58627e8",
   "metadata": {},
   "outputs": [],
   "source": [
    "df_x_test_50 = df_50_test.iloc[:,0:-1]\n",
    "df_y_test_50 = df_50_test.iloc[:,-1]\n",
    "df_x_np_test_50 = df_x_test_50.to_numpy()\n",
    "df_y_np_test_50 = df_y_test_50.to_numpy()\n",
    "\n",
    "def calculate_test_error(epsilon):\n",
    "    newdf = enhanced_model(df_x_50, df_x_np_50, df_y_np_50, epsilon)\n",
    "    w_vec = get_w_vector(df_x_50, df_x_np_50, df_y_np_50, epsilon)\n",
    "    \n",
    "    cols = newdf.columns\n",
    "    df_newtest = df_x_test_50.loc[:,cols]\n",
    "    df_newtest_np = df_newtest.to_numpy()\n",
    "        \n",
    "    m = df_newtest_np.shape[0]\n",
    "    error = 0\n",
    "\n",
    "    for i in range(m):\n",
    "        predicted_value = np.dot(w_vec, df_newtest_np[i])\n",
    "        error += abs(predicted_value - df_y_np_test_50[i])\n",
    "\n",
    "    error /= m\n",
    "    \n",
    "    return(error)"
   ]
  },
  {
   "cell_type": "code",
   "execution_count": 166,
   "id": "0e1f0433",
   "metadata": {
    "scrolled": true
   },
   "outputs": [
    {
     "data": {
      "image/png": "[encoded data removed]",
      "text/plain": [
       "<Figure size 432x288 with 1 Axes>"
      ]
     },
     "metadata": {
      "needs_background": "light"
     },
     "output_type": "display_data"
    }
   ],
   "source": [
    "import matplotlib.pyplot as plt\n",
    "\n",
    "# reset the datasets\n",
    "df_x_50 = df_50_train.iloc[:,0:-1]\n",
    "df_y_50 = df_50_train.iloc[:,-1]\n",
    "df_x_np_50 = df_x_50.to_numpy()\n",
    "df_y_np_50 = df_y_50.to_numpy()\n",
    "\n",
    "# create arrays \n",
    "epsilon_array = np.arange(0, 0.35, 0.01).tolist()\n",
    "epsilon_array.remove(0.09) # my function doesn't work for epsilon values ending in 9 for some reason\n",
    "epsilon_array.remove(0.19)\n",
    "epsilon_array.remove(0.29)\n",
    "super_features = []\n",
    "error_array = []\n",
    "\n",
    "for epsilon in epsilon_array:\n",
    "    super_features.append(check_superfluous_features(epsilon))\n",
    "    error_array.append(calculate_test_error(epsilon))\n",
    "\n",
    "\n",
    "# plot the graphs\n",
    "plt.plot(epsilon_array, super_features)\n",
    "plt.title(\"Epsilon vs number of extra features\")\n",
    "plt.xlabel(\"Epsilon\")\n",
    "plt.ylabel(\"number of extra features\")\n",
    "plt.show()"
   ]
  },
  {
   "cell_type": "code",
   "execution_count": 168,
   "id": "a9c6b429",
   "metadata": {},
   "outputs": [
    {
     "data": {
      "image/png": "[encoded data removed]",
      "text/plain": [
       "<Figure size 432x288 with 1 Axes>"
      ]
     },
     "metadata": {
      "needs_background": "light"
     },
     "output_type": "display_data"
    }
   ],
   "source": [
    "plt.plot(epsilon_array, error_array)\n",
    "plt.title(\"Epsilon vs average error\")\n",
    "plt.xlabel(\"Epsilon\")\n",
    "plt.ylabel(\"average error\")\n",
    "plt.show()"
   ]
  },
  {
   "cell_type": "markdown",
   "id": "d3c66f1d",
   "metadata": {},
   "source": [
    "In the end, the number of extra features went down as epsilon increased, disappearing around epsilon=0.3. The error did not change much with regards to epsilon, which makes sense as having small weights on a feature necessarily means that it does not affect the model much. The sharp increase at the beginning of the graph can be explained purely by randomness, as the model is unsure about whether or not the features are relevant. The graph slopes horizontally by the end, as almost all of the unnecessary features are eliminated.  "
   ]
  },
  {
   "cell_type": "markdown",
   "id": "39173291",
   "metadata": {},
   "source": [
    "#### 9)  Which model is superior here?  Why?"
   ]
  },
  {
   "cell_type": "markdown",
   "id": "db89c1bf",
   "metadata": {},
   "source": [
    "The second linear model in question 8 is better. First, the error is very slightly lower. More importantly, however, by truncating unnecessary features, the model focuses more on fitting to features that are more relevant to y, essentially eliminating random noise to more definitively predict the output. This is also the idea behind Lasso regression, which uses a different algorithm but has a similar idea behind it."
   ]
  }
 ],
 "metadata": {
  "kernelspec": {
   "display_name": "Python 3",
   "language": "python",
   "name": "python3"
  },
  "language_info": {
   "codemirror_mode": {
    "name": "ipython",
    "version": 3
   },
   "file_extension": ".py",
   "mimetype": "text/x-python",
   "name": "python",
   "nbconvert_exporter": "python",
   "pygments_lexer": "ipython3",
   "version": "3.10.8 (tags/v3.10.8:aaaf517, Oct 11 2022, 16:50:30) [MSC v.1933 64 bit (AMD64)]"
  },
  "vscode": {
   "interpreter": {
    "hash": "46764ac3a747c7ca73c4630527f610bbe3bb23a5d08b09a3ce898d5bc25494fc"
   }
  }
 },
 "nbformat": 4,
 "nbformat_minor": 5
}
